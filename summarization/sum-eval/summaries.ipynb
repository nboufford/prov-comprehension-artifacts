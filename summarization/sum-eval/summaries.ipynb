{
 "cells": [
  {
   "cell_type": "code",
   "execution_count": 14,
   "id": "8dddf44c-d2e2-4282-9cdf-1442f7747619",
   "metadata": {},
   "outputs": [],
   "source": [
    "import sys\n",
    "\n",
    "def char_count(filename):\n",
    "    \n",
    "    try:\n",
    "        # Open the file and read its content\n",
    "        with open(filename, 'r') as file:\n",
    "            content = file.read()\n",
    "            char_count = len(content)\n",
    "            return char_count\n",
    "    \n",
    "    except FileNotFoundError:\n",
    "        print(f\"File not found: {filename}\")"
   ]
  },
  {
   "cell_type": "code",
   "execution_count": 9,
   "id": "429b46dd-aeaf-4a1d-8cbb-b32c1cef9474",
   "metadata": {},
   "outputs": [
    {
     "name": "stdout",
     "output_type": "stream",
     "text": [
      "48911\n"
     ]
    }
   ],
   "source": [
    "char_count(\"../example_workflow_0/provenance/workflow_0_prov.json\")"
   ]
  },
  {
   "cell_type": "code",
   "execution_count": 21,
   "id": "4eb85820-ec2b-469c-ac23-ea68d152ad84",
   "metadata": {},
   "outputs": [
    {
     "name": "stdout",
     "output_type": "stream",
     "text": [
      "48911\n",
      "27765\n",
      "11419\n",
      "43.23362842714318\n",
      "58.872681433459384\n",
      "76.65351352456501\n"
     ]
    }
   ],
   "source": [
    "# Workflow 0 Example\n",
    "w0_prov_original = char_count(\"../example_workflow_0/provenance/workflow_0_prov.json\")\n",
    "w0_prov_summarized = char_count(\"../example_workflow_0/provenance/workflow_0_prov_summarized.json\")\n",
    "w0_prov_gpt = char_count(\"../example_workflow_0/provenance/workflow_0_prov_summarized_gpt.log\")\n",
    "\n",
    "print(w0_prov_original)\n",
    "print(w0_prov_summarized)\n",
    "print(w0_prov_gpt)\n",
    "\n",
    "edge_reduction = (1 - w0_prov_summarized / w0_prov_original) * 100\n",
    "print(edge_reduction)\n",
    "\n",
    "gpt_reduction_from_edge = (1 - w0_prov_gpt / w0_prov_summarized) * 100\n",
    "print(gpt_reduction_from_edge)\n",
    "\n",
    "gpt_reduction = (1 - w0_prov_gpt / w0_prov_original) * 100\n",
    "print(gpt_reduction)"
   ]
  },
  {
   "cell_type": "code",
   "execution_count": 24,
   "id": "c695c011-098f-440c-b27a-ec3b7bd6abff",
   "metadata": {},
   "outputs": [],
   "source": [
    "def get_reduction(workflow_num):\n",
    "    prov_original = char_count(f\"../example_workflow_{workflow_num}/provenance/workflow_{workflow_num}_prov.json\")\n",
    "    prov_summarized = char_count(f\"../example_workflow_{workflow_num}/provenance/workflow_{workflow_num}_prov_summarized.json\")\n",
    "    prov_gpt = char_count(f\"../example_workflow_{workflow_num}/provenance/workflow_{workflow_num}_prov_summarized_gpt.log\")\n",
    "\n",
    "    print(f\"Workflow {workflow_num}\")\n",
    "    print(prov_original)\n",
    "    print(prov_summarized)\n",
    "    print(prov_gpt)\n",
    "    \n",
    "    edge_reduction = (1 - (prov_summarized / prov_original)) * 100\n",
    "    print(edge_reduction)\n",
    "    \n",
    "    gpt_reduction_from_edge = (1 - (prov_gpt / prov_summarized)) * 100\n",
    "    print(gpt_reduction_from_edge)\n",
    "    \n",
    "    gpt_reduction = (1 - (prov_gpt / prov_original)) * 100\n",
    "    print(gpt_reduction)"
   ]
  },
  {
   "cell_type": "code",
   "execution_count": 25,
   "id": "7a7bc978-e952-4e20-8e9f-9a87bc055879",
   "metadata": {},
   "outputs": [
    {
     "name": "stdout",
     "output_type": "stream",
     "text": [
      "Workflow 0\n",
      "48911\n",
      "27765\n",
      "11419\n",
      "43.23362842714318\n",
      "58.872681433459384\n",
      "76.65351352456501\n",
      "Workflow 1\n",
      "72399\n",
      "34094\n",
      "12890\n",
      "52.90818933963176\n",
      "62.19276118965213\n",
      "82.19588668351773\n",
      "Workflow 2\n",
      "160099\n",
      "90301\n",
      "37398\n",
      "43.596774495780735\n",
      "58.58517624389541\n",
      "76.64070356466937\n",
      "Workflow 3\n",
      "125301\n",
      "69550\n",
      "28579\n",
      "44.4936592684815\n",
      "58.90869877785765\n",
      "77.19172233262304\n"
     ]
    }
   ],
   "source": [
    "# Print reductions for all workflows\n",
    "for i in range(4):\n",
    "    get_reduction(i)"
   ]
  },
  {
   "cell_type": "code",
   "execution_count": null,
   "id": "92b08ef1-acf5-4e08-81a4-46abd72d076c",
   "metadata": {},
   "outputs": [],
   "source": []
  }
 ],
 "metadata": {
  "kernelspec": {
   "display_name": "Python 3 (ipykernel)",
   "language": "python",
   "name": "python3"
  },
  "language_info": {
   "codemirror_mode": {
    "name": "ipython",
    "version": 3
   },
   "file_extension": ".py",
   "mimetype": "text/x-python",
   "name": "python",
   "nbconvert_exporter": "python",
   "pygments_lexer": "ipython3",
   "version": "3.11.4"
  }
 },
 "nbformat": 4,
 "nbformat_minor": 5
}
